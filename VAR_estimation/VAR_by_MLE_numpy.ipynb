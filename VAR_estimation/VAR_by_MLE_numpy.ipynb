{
 "cells": [
  {
   "cell_type": "markdown",
   "metadata": {},
   "source": [
    "# Estimation of simulated VAR by ML using only  numpy"
   ]
  },
  {
   "cell_type": "markdown",
   "metadata": {},
   "source": [
    "## Libraries"
   ]
  },
  {
   "cell_type": "code",
   "execution_count": 1,
   "metadata": {},
   "outputs": [],
   "source": [
    "import numpy as np\n",
    "import matplotlib.pyplot as plt\n",
    "from scipy.optimize import minimize\n",
    "\n",
    "np.random.seed(1)"
   ]
  },
  {
   "cell_type": "markdown",
   "metadata": {},
   "source": [
    "## Simulation of stationary time-series"
   ]
  },
  {
   "cell_type": "code",
   "execution_count": 35,
   "metadata": {},
   "outputs": [],
   "source": [
    "# Time-series dimension of simulation\n",
    "\n",
    "nsample = 1000000\n",
    "nvar = 3"
   ]
  },
  {
   "cell_type": "code",
   "execution_count": 3,
   "metadata": {},
   "outputs": [],
   "source": [
    "# Create null data frames for storing data\n",
    "\n",
    "df = np.empty((nsample, nvar))\n",
    "rho = np.empty((nvar))"
   ]
  },
  {
   "cell_type": "code",
   "execution_count": 4,
   "metadata": {},
   "outputs": [],
   "source": [
    "# Simulation of processes\n",
    "\n",
    "# Start values\n",
    "\n",
    "for i in np.arange(0, df.shape[1]):\n",
    "    df[0,i] = np.random.random()\n",
    "    \n",
    "# Rho parameters, smaller than one in absolute value\n",
    "for i in np.arange(0, df.shape[1]):\n",
    "    rho[i] = np.random.uniform(-0.99, 0.99)\n",
    "\n",
    "# Create the AR(1) processes\n",
    "for i in np.arange(1,df.shape[0]):\n",
    "    for j in np.arange(0, df.shape[1]):\n",
    "        df[i,j] = rho[j]*df[i-1, j] + np.random.normal()\n",
    "\n",
    "# print(df)"
   ]
  },
  {
   "cell_type": "code",
   "execution_count": 5,
   "metadata": {},
   "outputs": [
    {
     "data": {
      "image/png": "[encoded data removed]",
      "text/plain": [
       "<Figure size 432x288 with 3 Axes>"
      ]
     },
     "metadata": {
      "needs_background": "dark"
     },
     "output_type": "display_data"
    }
   ],
   "source": [
    "# Plots\n",
    "\n",
    "f, axarr = plt.subplots(3, sharex=True, sharey=True)\n",
    "f.suptitle('Basic plots')\n",
    "\n",
    "for i in np.arange(0, df.shape[1]):\n",
    "    axarr[i].plot(df[:,i])\n",
    "\n",
    "# Bring subplots close to each other.\n",
    "f.subplots_adjust(hspace=0)\n",
    "\n",
    "# Hide x labels and tick labels for all but bottom plot.\n",
    "for ax in axarr:\n",
    "    ax.label_outer()"
   ]
  },
  {
   "cell_type": "markdown",
   "metadata": {},
   "source": [
    "## VAR"
   ]
  },
  {
   "cell_type": "code",
   "execution_count": 30,
   "metadata": {},
   "outputs": [],
   "source": [
    "class VAR:\n",
    "    \"\"\" \n",
    "    **** VECTOR AUTOREGRESSION (VAR) MODELS ****\n",
    "    ----------\n",
    "    Parameters\n",
    "    data : np.array\n",
    "        Field to specify the time series data that will be used.\n",
    "    lags : int\n",
    "        Field to specify how many lag terms the model will have. \n",
    "    integ : int (default : 0)\n",
    "        Specifies how many time to difference the dependent variables.\n",
    "    target : str (pd.DataFrame) or int (np.array) (default : None)\n",
    "        By default, all columns will be selected as the dependent variables.\n",
    "    \"\"\"\n",
    "\n",
    "    def __init__(self,data,lags,target=None,integ=0):\n",
    "        \n",
    "        # Latent Variables\n",
    "        self.lags = lags\n",
    "        self.integ = integ\n",
    "        self.target = target\n",
    "        self.model_name = \"VAR(\" + str(self.lags) + \")\"\n",
    "        \n",
    "        # Format the dependant variables\n",
    "        self.data = data\n",
    "        self.T = data.shape[0]\n",
    "        self.ylen = data.shape[1]\n",
    "        \n",
    "        # Format the independent variables\n",
    "        \n",
    "        ## TO DO\n",
    "        \n",
    "        # Difference data\n",
    "        X = np.transpose(self.data)\n",
    "        for order in np.arange(self.integ):\n",
    "            X = np.asarray([np.diff(i) for i in X])\n",
    "            self.data_name = np.asarray([\"Differenced \" + str(i) for i in self.data_name])\n",
    "        self.data = X.T\n",
    "        \n",
    "        \"\"\"\n",
    "        Y : np.array\n",
    "            Contains the length-adjusted time series (accounting for lags)\n",
    "        \"\"\"     \n",
    "\n",
    "        self.Y = (self.data[self.lags:,]).T\n",
    "        \n",
    "    def _design(self):\n",
    "        \"\"\" Creates a design matrix\n",
    "        Z : np.array\n",
    "        \"\"\" \n",
    "        \n",
    "        Z = np.ones(((self.ylen*self.lags+1), (self.T-self.lags)))\n",
    "\n",
    "        row_count=1\n",
    "        for lag in np.arange(1, self.lags+1):\n",
    "            for reg in np.arange(self.ylen):\n",
    "                Z[row_count, :] = self.data[:,reg][(self.lags-lag):-lag]\n",
    "                row_count += 1\n",
    "                \n",
    "        return(Z)\n",
    "\n",
    "    def OLS(self):\n",
    "        \"\"\" Creates OLS coefficient matrix\n",
    "        ----------\n",
    "        Parameters:\n",
    "        NULL\n",
    "        ----------\n",
    "        Returns\n",
    "        The coefficient matrix B\n",
    "        \"\"\"         \n",
    "        \n",
    "        Z = self._design()\n",
    "        return np.dot(np.dot(self.Y,np.transpose(Z)),np.linalg.inv(np.dot(Z,np.transpose(Z))))\n",
    "    \n",
    "    def _neg_loglike(self, par):\n",
    "        \"\"\" Calculate the MLE value, given the mean vector and variance matrix        \n",
    "        \"\"\"\n",
    "        \n",
    "        Z = self._design()\n",
    "        coef = np.reshape(par[0:par.shape[0]-self.ylen], (self.ylen, self.ylen+1))\n",
    "        coef_var = np.diag(par[-self.ylen:])\n",
    "        \n",
    "        logLik = -self.Y.shape[1]*self.ylen*np.log(2*np.pi)*.5 \n",
    "        + .5*self.Y.shape[1]*np.log(np.abs(np.linalg.det(coef_var)))\n",
    "        - .5*np.dot(np.dot((self.Y - np.dot(coef,Z)).T,np.linalg.inv(coef_var)),self.Y - np.dot(coef,Z))\n",
    "        \n",
    "        return logLik\n",
    "    \n",
    "    def MLE(self):\n",
    "        \"\"\" Creates MLE coefficient matrix\n",
    "        ----------\n",
    "        Parameters:\n",
    "        NULL\n",
    "        ----------\n",
    "        Returns\n",
    "        The coefficient matrix MLE\n",
    "        ----------\n",
    "        It is based on the assumption of normality of errors\n",
    "        \"\"\"     \n",
    "\n",
    "        # Make a list of initial parameter guesses (b0, b1, sd)   \n",
    "        initParams = np.random.uniform(-1,1, (self.ylen+1)*self.ylen + self.ylen)\n",
    "\n",
    "        # Run the minimizer\n",
    "        results = minimize(self._neg_loglike, initParams, method='BFGS')\n",
    "\n",
    "        # Print the results\n",
    "        return(results.x)"
   ]
  },
  {
   "cell_type": "code",
   "execution_count": 36,
   "metadata": {},
   "outputs": [
    {
     "data": {
      "text/plain": [
       "{'X Constant': -0.00172274007663138,\n",
       " 'X AR(1)': -0.3965507005543621,\n",
       " 'Y to X AR(1)': -0.010427047580646904,\n",
       " 'Z to X AR(1)': -0.004389573814288135,\n",
       " 'Y Constant': -0.0004389549865082529,\n",
       " 'Y AR(1)': 0.001476376509217392,\n",
       " 'X to Y AR(1)': -0.6977530301676989,\n",
       " 'Z to Y AR(1)': -0.008238512325244711,\n",
       " 'Z Constant': 0.0066499144150937144,\n",
       " 'Z AR(1)': -0.0016853254090519307,\n",
       " 'X to Z AR(1)': 0.010211427822415554,\n",
       " 'Y to Z AR(1)': -0.8012812023861713}"
      ]
     },
     "execution_count": 36,
     "metadata": {},
     "output_type": "execute_result"
    }
   ],
   "source": [
    "# Estimate VAR(1) by OLS\n",
    "\n",
    "# In general\n",
    "\n",
    "OLS_results = VAR(data = df, lags = 1, target = None, integ = 0).OLS()\n",
    "OLS_results\n",
    "\n",
    "# For more clarity\n",
    "\n",
    "par_names_OLS = ['X Constant','X AR(1)','Y to X AR(1)','Z to X AR(1)','Y Constant','Y AR(1)','X to Y AR(1)','Z to Y AR(1)','Z Constant','Z AR(1)','X to Z AR(1)','Y to Z AR(1)'] \n",
    "results_OLS =  dict(zip(par_names_OLS, OLS_results.flatten()))\n",
    "results_OLS"
   ]
  },
  {
   "cell_type": "code",
   "execution_count": 38,
   "metadata": {},
   "outputs": [
    {
     "data": {
      "text/plain": [
       "{'X Constant': -0.40350182989247907,\n",
       " 'X AR(1)': 0.2927859215012636,\n",
       " 'Y to X AR(1)': -0.8252235935981644,\n",
       " 'Z to X AR(1)': 0.2837531702503904,\n",
       " 'Y Constant': 0.06464565906834974,\n",
       " 'Y AR(1)': 0.6849081856300072,\n",
       " 'X to Y AR(1)': -0.6237841592702289,\n",
       " 'Z to Y AR(1)': -0.16845809167883563,\n",
       " 'Z Constant': -0.058761278183233845,\n",
       " 'Z AR(1)': -0.9552790486112426,\n",
       " 'X to Z AR(1)': 0.3380504714825481,\n",
       " 'Y to Z AR(1)': -0.07490475405613473,\n",
       " 'Std of X error': 0.7828287101238756,\n",
       " 'Std of Y error': -0.5303257072359737,\n",
       " 'Std of Z error': -0.14460205975880713}"
      ]
     },
     "execution_count": 38,
     "metadata": {},
     "output_type": "execute_result"
    }
   ],
   "source": [
    "# Estimate VAR(1) by MLE\n",
    "\n",
    "MLE_results = VAR(data = df, lags = 1, target = None, integ = 0).MLE()\n",
    "MLE_results\n",
    "\n",
    "# For more clarity\n",
    "\n",
    "par_names_MLE = par_names_OLS + ['Std of X error','Std of Y error', 'Std of Z error']\n",
    "results_MLE = dict(zip(par_names_MLE, MLE_results.flatten()))\n",
    "results_MLE"
   ]
  }
 ],
 "metadata": {
  "kernelspec": {
   "display_name": "Python 3",
   "language": "python",
   "name": "python3"
  },
  "language_info": {
   "codemirror_mode": {
    "name": "ipython",
    "version": 3
   },
   "file_extension": ".py",
   "mimetype": "text/x-python",
   "name": "python",
   "nbconvert_exporter": "python",
   "pygments_lexer": "ipython3",
   "version": "3.6.6"
  }
 },
 "nbformat": 4,
 "nbformat_minor": 2
}
